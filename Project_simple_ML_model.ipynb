{
 "cells": [
  {
   "cell_type": "code",
   "execution_count": null,
   "id": "2d0e3f19",
   "metadata": {},
   "outputs": [],
   "source": [
    "# Add dependencies\n",
    "import pandas as pd\n",
    "from sklearn.model_selection import train_test_split\n",
    "from sklearn.linear_model import LinearRegression\n",
    "from sklearn.metrics import accuracy_score"
   ]
  },
  {
   "cell_type": "code",
   "execution_count": null,
   "id": "d699f53d",
   "metadata": {},
   "outputs": [],
   "source": [
    "#Read data into DataFrame"
   ]
  },
  {
   "cell_type": "code",
   "execution_count": null,
   "id": "d9cac2a6",
   "metadata": {},
   "outputs": [],
   "source": [
    "# Determine y and x columns\n",
    "y= df['Totalkg']\n",
    "x= df.drop('Totalkg', axis=1)"
   ]
  },
  {
   "cell_type": "code",
   "execution_count": null,
   "id": "5c13c54a",
   "metadata": {},
   "outputs": [],
   "source": [
    "# Create training and test data\n",
    "x_train, x_test, y_train, y_test = train_test_split(x, y, random_state=1, stratify=y)"
   ]
  },
  {
   "cell_type": "code",
   "execution_count": null,
   "id": "9a538f31",
   "metadata": {},
   "outputs": [],
   "source": [
    "# Instantiate the model\n",
    "model = LinearRegression()\n",
    "model"
   ]
  },
  {
   "cell_type": "code",
   "execution_count": null,
   "id": "5064da74",
   "metadata": {},
   "outputs": [],
   "source": [
    "# Train the dataset x_train and y_train\n",
    "model.fit(x_train, y_train)"
   ]
  },
  {
   "cell_type": "code",
   "execution_count": null,
   "id": "62064f6a",
   "metadata": {},
   "outputs": [],
   "source": [
    "# Validate the model by Predicting the data \n",
    "y_predicted = model.predict(x_test)\n",
    "\n",
    "# Load the predicted outcome into a DataFrame with the y_test data)\n",
    "predicted_outcome = pd.DataFrame({\"Prediction\": y_predicted, \"Actual\": y_test}).reset_index(drop = True)\n",
    "predicted_outcome.head()"
   ]
  },
  {
   "cell_type": "code",
   "execution_count": null,
   "id": "1c19abb0",
   "metadata": {},
   "outputs": [],
   "source": [
    "# Test the simple ML model\n",
    "print({\"The accuracy Score of the model is\"} accuracy_score(y_test, y_predicted))"
   ]
  }
 ],
 "metadata": {
  "kernelspec": {
   "display_name": "mlenv",
   "language": "python",
   "name": "mlenv"
  },
  "language_info": {
   "codemirror_mode": {
    "name": "ipython",
    "version": 3
   },
   "file_extension": ".py",
   "mimetype": "text/x-python",
   "name": "python",
   "nbconvert_exporter": "python",
   "pygments_lexer": "ipython3",
   "version": "3.7.11"
  }
 },
 "nbformat": 4,
 "nbformat_minor": 5
}
