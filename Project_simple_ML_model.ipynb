{
 "cells": [
  {
   "cell_type": "code",
   "execution_count": null,
   "id": "05942312",
   "metadata": {},
   "outputs": [],
   "source": [
    "# Add dependencies\n",
    "import pandas as pd\n",
    "from sklearn.model_selection import train_test_split\n",
    "from sklearn.linear_model import LogisticRegression\n",
    "from sklearn.metrics import accuracy_score"
   ]
  },
  {
   "cell_type": "code",
   "execution_count": null,
   "id": "2b1df0ba",
   "metadata": {},
   "outputs": [],
   "source": [
    "#Read data into DataFrame"
   ]
  },
  {
   "cell_type": "code",
   "execution_count": null,
   "id": "6fb23106",
   "metadata": {},
   "outputs": [],
   "source": [
    "# Determine y and x columns\n",
    "y= df[]\n",
    "x= df.drop(columns=\"\")"
   ]
  },
  {
   "cell_type": "code",
   "execution_count": null,
   "id": "69b78cf4",
   "metadata": {},
   "outputs": [],
   "source": [
    "# Create training and test data\n",
    "x_train, x_test, y_train, y_test = train_test_split(x, y, random state=1, stratify=y)"
   ]
  },
  {
   "cell_type": "code",
   "execution_count": null,
   "id": "2cd6a5ae",
   "metadata": {},
   "outputs": [],
   "source": [
    "# Instantiate the model\n",
    "classifier = LogisticRegression( solver = 'lbfgs', random_state=1)\n",
    "classifier"
   ]
  },
  {
   "cell_type": "code",
   "execution_count": null,
   "id": "6c077bf1",
   "metadata": {},
   "outputs": [],
   "source": [
    "# Train the dataset x_train and y_train\n",
    "classifier.fit(x_train, y_train)"
   ]
  },
  {
   "cell_type": "code",
   "execution_count": null,
   "id": "4dbc4a9e",
   "metadata": {},
   "outputs": [],
   "source": [
    "# Validate the model by Predicting the data \n",
    "y_predicted = classifier.predict(x_test)\n",
    "\n",
    "# Load the predicted outcome into a DataFrame with the y_test data)\n",
    "predicted_outcome = pd.DataFrame({\"Prediction\": y_predicted, \"Actual\": y_test}).reset_index(drop = True)\n",
    "predicted_outcome.head()"
   ]
  },
  {
   "cell_type": "code",
   "execution_count": null,
   "id": "aa588221",
   "metadata": {},
   "outputs": [],
   "source": [
    "# Test the simple ML model\n",
    "print({\"The accuracy Score of the model is\"} accuracy_score(y_test, y_predicted))"
   ]
  }
 ],
 "metadata": {
  "kernelspec": {
   "display_name": "mlenv",
   "language": "python",
   "name": "mlenv"
  },
  "language_info": {
   "codemirror_mode": {
    "name": "ipython",
    "version": 3
   },
   "file_extension": ".py",
   "mimetype": "text/x-python",
   "name": "python",
   "nbconvert_exporter": "python",
   "pygments_lexer": "ipython3",
   "version": "3.7.11"
  }
 },
 "nbformat": 4,
 "nbformat_minor": 5
}
