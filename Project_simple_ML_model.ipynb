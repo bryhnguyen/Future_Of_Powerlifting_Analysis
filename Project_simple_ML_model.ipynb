{
 "cells": [
  {
   "cell_type": "code",
   "execution_count": 15,
   "id": "2d0e3f19",
   "metadata": {},
   "outputs": [],
   "source": [
    "# Add dependencies\n",
    "import pandas as pd\n",
    "from sklearn.model_selection import train_test_split\n",
    "from sklearn.linear_model import LinearRegression\n",
    "from pathlib import Path"
   ]
  },
  {
   "cell_type": "code",
   "execution_count": 17,
   "id": "d699f53d",
   "metadata": {},
   "outputs": [
    {
     "name": "stderr",
     "output_type": "stream",
     "text": [
      "/Users/kwasibtwumasi/opt/anaconda3/envs/mlenv/lib/python3.7/site-packages/IPython/core/interactiveshell.py:3444: DtypeWarning: Columns (35) have mixed types.Specify dtype option on import or set low_memory=False.\n",
      "  exec(code_obj, self.user_global_ns, self.user_ns)\n"
     ]
    }
   ],
   "source": [
    "#Read data into DataFrame\n",
    "file_path = Path('openpowerlifting.csv')\n",
    "df = pd.read_csv(file_path)"
   ]
  },
  {
   "cell_type": "code",
   "execution_count": 18,
   "id": "71765fd8",
   "metadata": {},
   "outputs": [
    {
     "data": {
      "text/plain": [
       "Index(['Name', 'Sex', 'Event', 'Equipment', 'Age', 'AgeClass', 'Division',\n",
       "       'BodyweightKg', 'WeightClassKg', 'Squat1Kg', 'Squat2Kg', 'Squat3Kg',\n",
       "       'Squat4Kg', 'Best3SquatKg', 'Bench1Kg', 'Bench2Kg', 'Bench3Kg',\n",
       "       'Bench4Kg', 'Best3BenchKg', 'Deadlift1Kg', 'Deadlift2Kg', 'Deadlift3Kg',\n",
       "       'Deadlift4Kg', 'Best3DeadliftKg', 'TotalKg', 'Place', 'Wilks',\n",
       "       'McCulloch', 'Glossbrenner', 'IPFPoints', 'Tested', 'Country',\n",
       "       'Federation', 'Date', 'MeetCountry', 'MeetState', 'MeetName'],\n",
       "      dtype='object')"
      ]
     },
     "execution_count": 18,
     "metadata": {},
     "output_type": "execute_result"
    }
   ],
   "source": [
    "# Drop Columns\n",
    "df.columns\n"
   ]
  },
  {
   "cell_type": "code",
   "execution_count": 20,
   "id": "d9cac2a6",
   "metadata": {},
   "outputs": [],
   "source": [
    "# Determine y and x columns\n",
    "y= df['TotalKg']\n",
    "x= df['Wilks']"
   ]
  },
  {
   "cell_type": "code",
   "execution_count": 23,
   "id": "e24fefb5",
   "metadata": {},
   "outputs": [
    {
     "data": {
      "text/plain": [
       "(1423354,)"
      ]
     },
     "execution_count": 23,
     "metadata": {},
     "output_type": "execute_result"
    }
   ],
   "source": [
    "x.shape"
   ]
  },
  {
   "cell_type": "code",
   "execution_count": 24,
   "id": "52e79305",
   "metadata": {},
   "outputs": [
    {
     "data": {
      "text/plain": [
       "(1423354,)"
      ]
     },
     "execution_count": 24,
     "metadata": {},
     "output_type": "execute_result"
    }
   ],
   "source": [
    "y.shape"
   ]
  },
  {
   "cell_type": "code",
   "execution_count": null,
   "id": "30d70653",
   "metadata": {},
   "outputs": [],
   "source": [
    "# Create training and test data\n",
    "x_train, x_test, y_train, y_test = train_test_split(x, y, random_state=1, stratify=y)"
   ]
  },
  {
   "cell_type": "code",
   "execution_count": 22,
   "id": "9a538f31",
   "metadata": {},
   "outputs": [
    {
     "data": {
      "text/plain": [
       "LinearRegression()"
      ]
     },
     "execution_count": 22,
     "metadata": {},
     "output_type": "execute_result"
    }
   ],
   "source": [
    "# Instantiate the model\n",
    "model = LinearRegression()\n",
    "model"
   ]
  },
  {
   "cell_type": "code",
   "execution_count": null,
   "id": "5064da74",
   "metadata": {},
   "outputs": [],
   "source": [
    "# Train the dataset x_train and y_train\n",
    "model.fit(x_train, y_train)"
   ]
  },
  {
   "cell_type": "code",
   "execution_count": null,
   "id": "62064f6a",
   "metadata": {},
   "outputs": [],
   "source": [
    "# Validate the model by Predicting the data \n",
    "y_predicted = model.predict(x_test)\n",
    "\n",
    "# Load the predicted outcome into a DataFrame with the y_test data)\n",
    "predicted_outcome = pd.DataFrame({\"Prediction\": y_predicted, \"Actual\": y_test}).reset_index(drop = True)\n",
    "predicted_outcome.head()"
   ]
  },
  {
   "cell_type": "code",
   "execution_count": null,
   "id": "1c19abb0",
   "metadata": {},
   "outputs": [],
   "source": [
    "# Test the simple ML model\n",
    "print({\"The accuracy Score of the model is\"} accuracy_score(y_test, y_predicted))"
   ]
  }
 ],
 "metadata": {
  "kernelspec": {
   "display_name": "mlenv",
   "language": "python",
   "name": "mlenv"
  },
  "language_info": {
   "codemirror_mode": {
    "name": "ipython",
    "version": 3
   },
   "file_extension": ".py",
   "mimetype": "text/x-python",
   "name": "python",
   "nbconvert_exporter": "python",
   "pygments_lexer": "ipython3",
   "version": "3.7.11"
  }
 },
 "nbformat": 4,
 "nbformat_minor": 5
}
